{
 "cells": [
  {
   "cell_type": "code",
   "execution_count": 1,
   "metadata": {
    "colab": {
     "base_uri": "https://localhost:8080/",
     "height": 821
    },
    "colab_type": "code",
    "id": "DRaBeAo2y8rm",
    "outputId": "3b60f0a6-1f20-45c5-97d3-5fa204b92635"
   },
   "outputs": [],
   "source": [
    "import matplotlib.pyplot as plt\n",
    "import numpy as np\n",
    "import pandas as pd\n",
    "from sklearn import linear_model\n",
    "d = pd.read_csv('2017.csv')\n",
    "gdp = np.array(d['Economy..GDP.per.Capita.'])[:10]\n",
    "happiness = np.array(d['Happiness.Score'])[:10]"
   ]
  },
  {
   "cell_type": "code",
   "execution_count": 2,
   "metadata": {
    "colab": {},
    "colab_type": "code",
    "id": "ZYym_cMTzr2u"
   },
   "outputs": [],
   "source": [
    "import numpy as np\n",
    "\n",
    "def linear_nn(x, w):\n",
    "    x_with_bias = np.c_[x, np.ones(x.shape[0])]\n",
    "    return np.matmul(w, x_with_bias.transpose())"
   ]
  },
  {
   "cell_type": "code",
   "execution_count": 3,
   "metadata": {},
   "outputs": [],
   "source": [
    "def update(w, x_with_bias, y, learning_rate):\n",
    "    error = np.matmul(w, x_with_bias.transpose()) - y\n",
    "    error_m = error.mean()\n",
    "    delta_w = - 2 * learning_rate * np.matmul(x_with_bias.transpose(), error)\n",
    "    return w + delta_w"
   ]
  },
  {
   "cell_type": "code",
   "execution_count": 4,
   "metadata": {},
   "outputs": [],
   "source": [
    "def train(x, y, learning_rate, iterNum):    \n",
    "    x_with_bias = np.c_[x, np.ones(x.shape[0])]\n",
    "    w = np.random.random(x_with_bias.shape[1])\n",
    "    w_dynamics = []\n",
    "    for _ in range(iterNum):\n",
    "        w = update(w, x_with_bias, y, learning_rate)\n",
    "        w_dynamics.append(w)\n",
    "    return w, w_dynamics"
   ]
  },
  {
   "cell_type": "code",
   "execution_count": 5,
   "metadata": {
    "scrolled": true
   },
   "outputs": [],
   "source": [
    "learning_rate = 0.01\n",
    "iterNum = 10\n",
    "trained_w, w_dynamics = train(gdp, happiness, learning_rate, iterNum)"
   ]
  },
  {
   "cell_type": "code",
   "execution_count": null,
   "metadata": {},
   "outputs": [],
   "source": [
    "for w in w_dynamics[::]:\n",
    "    fig, ax = plt.subplots()\n",
    "    gdp_test = np.linspace(gdp.min(), gdp.max(), 10000)\n",
    "    happiness_predict = linear_nn(gdp_test, w)\n",
    "    ax.scatter(gdp, happiness, label='All', marker='*')\n",
    "    ax.scatter(gdp_test, happiness_predict, c='green', marker='.' , label='pred')\n",
    "    ax.legend(loc='lower left')\n",
    "    ax.set_xlabel('Economy..GDP.per.Capita.')\n",
    "    ax.set_ylabel('Happiness.Score')"
   ]
  },
  {
   "cell_type": "code",
   "execution_count": null,
   "metadata": {},
   "outputs": [],
   "source": []
  }
 ],
 "metadata": {
  "colab": {
   "collapsed_sections": [],
   "name": "ml191112ex.ipynb",
   "provenance": []
  },
  "kernelspec": {
   "display_name": "Python 3",
   "language": "python",
   "name": "python3"
  },
  "language_info": {
   "codemirror_mode": {
    "name": "ipython",
    "version": 3
   },
   "file_extension": ".py",
   "mimetype": "text/x-python",
   "name": "python",
   "nbconvert_exporter": "python",
   "pygments_lexer": "ipython3",
   "version": "3.7.0"
  }
 },
 "nbformat": 4,
 "nbformat_minor": 1
}
